{
 "cells": [
  {
   "cell_type": "code",
   "execution_count": 8,
   "id": "4290d928-25fa-41ec-9bd8-ad5e24eb3f98",
   "metadata": {},
   "outputs": [],
   "source": [
    "import numpy as np\n",
    "import scanpy as sc\n",
    "import pandas as pd\n",
    "import matplotli\n",
    "import matplotlib.pyplot as plt\n",
    "\n",
    "import pySTIM as pst\n",
    "\n",
    "sc.settings.verbosity = 3  \n",
    "\n",
    "import warnings\n",
    "warnings.filterwarnings('ignore')\n",
    "cmap = mcolors.LinearSegmentedColormap.from_list('WhRd',['#ffffff', \"#fffacd\", \"red\", \"darkred\"], N=256)  "
   ]
  },
  {
   "cell_type": "code",
   "execution_count": 2,
   "id": "82cb4ece-4a39-4498-961f-b221b5bd87ad",
   "metadata": {},
   "outputs": [],
   "source": [
    "adata = sc.read_h5ad(\"../Xenium_all.h5ad\")"
   ]
  },
  {
   "cell_type": "markdown",
   "id": "67f6bc69",
   "metadata": {},
   "source": [
    "Figure 2A"
   ]
  },
  {
   "cell_type": "code",
   "execution_count": null,
   "id": "57f4b9c1",
   "metadata": {},
   "outputs": [],
   "source": [
    "## Celltype Visualization\n",
    "pst.plot_scatter(adata[adata.obs.ident == \"ShamR\"], xlims=[1850,2150], ylims=[500,1400], dpi=200, ptsize=15,\n",
    "                    color_by='celltype', seed=123, alpha=1, ticks=False, \n",
    "                    width = 5, height = 5, save = \"sham_celltype.png\")\n",
    "pst.plot_scatter(adata[adata.obs.ident == \"Hour4R\"], xlims=[2700,3000], ylims=[3200,4100], dpi=200, ptsize=15,\n",
    "                    color_by='celltype', seed=123, alpha=1, ticks=False, \n",
    "                    width = 5, height = 5, save = \"hour4_celltype.png\")                \n",
    "pst.plot_scatter(adata[adata.obs.ident == \"Hour12R\"], xlims=[2300,2600], ylims=[1450,2350], dpi=200, ptsize=15,\n",
    "                    color_by='celltype', seed=123, alpha=1, ticks=False, \n",
    "                    width = 5, height = 5, save = \"hour12_celltype.png\")\n",
    "pst.plot_scatter(adata[adata.obs.ident == \"Day2R\"], xlims=[2700,3000], ylims=[600,1500], dpi=200, ptsize=15,\n",
    "                    color_by='celltype', seed=123, alpha=1, ticks=False, \n",
    "                    width = 5, height = 5, save = \"day2_celltype.png\")\n",
    "pst.plot_scatter(adata[adata.obs.ident == \"Day14R\"], xlims=[1600,1900], ylims=[3500,4400], dpi=200, ptsize=15,\n",
    "                    color_by='celltype', seed=123, alpha=1, ticks=False, \n",
    "                    width = 5, height = 5, save = \"day14_celltype.png\")\n",
    "pst.plot_scatter(adata[adata.obs.ident == \"Week6R\"], xlims=[1120,1420], ylims=[3650,4550], dpi=200, ptsize=15,\n",
    "                    color_by='celltype', seed=123, alpha=1, ticks=False, \n",
    "                    width = 5, height = 5, save = \"week6_celltype.png\")\n",
    "                "
   ]
  },
  {
   "cell_type": "code",
   "execution_count": 81,
   "id": "587a4ebd-dfe0-4364-81f7-f6917450f9c7",
   "metadata": {},
   "outputs": [],
   "source": [
    "genes = ['Nphs2','Ddn','Ehd3', 'Slc5a2', 'Slc5a12', 'Cyp4b1','Slc22a6', 'Slc7a13', 'Acox2', 'Cyp7b1', 'Plin2', \"Krt20\", 'Havcr1',\n",
    "         'Vcam1', 'C3', 'Fst', 'Slc12a1', 'Slc12a3', 'Scnn1g',  'Aqp4',\"Clnk\",\n",
    "         'Slc26a4', 'Krt19','Krt15', \"Akap12\", \n",
    "         'Emcn', \"Col1a1\",'Fbln1','Cxcl12', 'Acta2', 'Myh11', 'Cd53','Ccl8','Ccr1']"
   ]
  },
  {
   "cell_type": "markdown",
   "id": "164f4085",
   "metadata": {},
   "source": [
    "Figure 2B"
   ]
  },
  {
   "cell_type": "code",
   "execution_count": null,
   "id": "0216bcb8",
   "metadata": {},
   "outputs": [],
   "source": [
    "from matplotlib.pyplot import rc_context\n",
    "\n",
    "with rc_context({'figure.dpi': 300}):\n",
    "    ax_dict = sc.pl.matrixplot(adata, genes, 'celltype_plot', dendrogram=False, figsize=(5,5), layer='scaled', swap_axes=True,\n",
    "                               vmin=-1.5, vmax=1.5, cmap='RdBu_r', show=False)\n",
    "    \n",
    "    ax_dict['mainplot_ax'].tick_params(axis='both', which='both', length=0)\n",
    "    ax_dict['color_legend_ax'].set_visible(False)\n",
    "    #plt.show()\n",
    "    plt.savefig(\"Xenium_matrixplot.pdf\",bbox_inches=\"tight\")\n",
    "    plt.show()"
   ]
  },
  {
   "cell_type": "markdown",
   "id": "c7e17cd2",
   "metadata": {},
   "source": [
    "Figure 2C"
   ]
  },
  {
   "cell_type": "code",
   "execution_count": null,
   "id": "918da5bc",
   "metadata": {},
   "outputs": [],
   "source": [
    "with plt.rc_context({\"figure.dpi\": (200), \"figure.figsize\": (5,5)}):\n",
    "    ax = sc.pl.umap(adata_xe, color=[\"celltype_plot\"], s=0.2, legend_fontsize=4, frameon=False, show=False)\n",
    "    plt.savefig(\"UMAP.png\", transparent=True, bbox_inches='tight')\n",
    "    plt.show()"
   ]
  },
  {
   "cell_type": "code",
   "execution_count": null,
   "id": "8864ec2b",
   "metadata": {},
   "outputs": [],
   "source": []
  }
 ],
 "metadata": {
  "kernelspec": {
   "display_name": "Python 3 (ipykernel)",
   "language": "python",
   "name": "python3"
  },
  "language_info": {
   "codemirror_mode": {
    "name": "ipython",
    "version": 3
   },
   "file_extension": ".py",
   "mimetype": "text/x-python",
   "name": "python",
   "nbconvert_exporter": "python",
   "pygments_lexer": "ipython3",
   "version": "3.9.15"
  }
 },
 "nbformat": 4,
 "nbformat_minor": 5
}
