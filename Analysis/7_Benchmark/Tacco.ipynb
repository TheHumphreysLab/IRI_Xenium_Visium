{
 "cells": [
  {
   "cell_type": "code",
   "execution_count": 9,
   "id": "ad63f011-a56e-42e3-aeac-7bc1b8690c87",
   "metadata": {
    "scrolled": true
   },
   "outputs": [],
   "source": [
    "import tacco as tc\n",
    "import scanpy as sc\n",
    "import pandas as pd\n",
    "import numpy as np"
   ]
  },
  {
   "cell_type": "code",
   "execution_count": 10,
   "id": "9daff7dd-4cdc-4dad-b258-6a13a191d613",
   "metadata": {},
   "outputs": [
    {
     "name": "stdout",
     "output_type": "stream",
     "text": [
      "sham\n"
     ]
    },
    {
     "name": "stderr",
     "output_type": "stream",
     "text": [
      "/tmp/ipykernel_148138/1854836715.py:11: FutureWarning: The behavior of Series.replace (and DataFrame.replace) with CategoricalDtype is deprecated. In a future version, replace will only be used for cases that preserve the categories. To change the categories, use ser.cat.rename_categories instead.\n",
      "  rna_ad.obs[\"celltype_new\"] = rna_ad.obs[\"celltype_new\"].replace('DTL-ATL','DTL')\n"
     ]
    },
    {
     "name": "stdout",
     "output_type": "stream",
     "text": [
      "Starting preprocessing\n",
      "Annotation profiles were not found in `reference.varm[\"celltype_new\"]`. Constructing reference profiles with `tacco.preprocessing.construct_reference_profiles` and default arguments...\n",
      "Finished preprocessing in 9.06 seconds.\n",
      "Starting annotation of data with shape (1224, 17001) and a reference of shape (26654, 17001) using the following wrapped method:\n",
      "+- platform normalization: platform_iterations=0, gene_keys=celltype_new, normalize_to=adata\n",
      "   +- multi center: multi_center=None multi_center_amplitudes=True\n",
      "      +- bisection boost: bisections=4, bisection_divisor=3\n",
      "         +- core: method=OT annotation_prior=None\n",
      "mean,std( rescaling(gene) )  6.532031447812827 20.210998277418778\n",
      "bisection run on 1\n",
      "bisection run on 0.6666666666666667\n",
      "bisection run on 0.4444444444444444\n",
      "bisection run on 0.2962962962962963\n",
      "bisection run on 0.19753086419753085\n",
      "bisection run on 0.09876543209876543\n",
      "Finished annotation in 26.65 seconds.\n",
      "4hours\n"
     ]
    },
    {
     "name": "stderr",
     "output_type": "stream",
     "text": [
      "/tmp/ipykernel_148138/1854836715.py:11: FutureWarning: The behavior of Series.replace (and DataFrame.replace) with CategoricalDtype is deprecated. In a future version, replace will only be used for cases that preserve the categories. To change the categories, use ser.cat.rename_categories instead.\n",
      "  rna_ad.obs[\"celltype_new\"] = rna_ad.obs[\"celltype_new\"].replace('DTL-ATL','DTL')\n"
     ]
    },
    {
     "name": "stdout",
     "output_type": "stream",
     "text": [
      "Starting preprocessing\n",
      "Annotation profiles were not found in `reference.varm[\"celltype_new\"]`. Constructing reference profiles with `tacco.preprocessing.construct_reference_profiles` and default arguments...\n",
      "Finished preprocessing in 6.21 seconds.\n",
      "Starting annotation of data with shape (1612, 16462) and a reference of shape (14486, 16462) using the following wrapped method:\n",
      "+- platform normalization: platform_iterations=0, gene_keys=celltype_new, normalize_to=adata\n",
      "   +- multi center: multi_center=None multi_center_amplitudes=True\n",
      "      +- bisection boost: bisections=4, bisection_divisor=3\n",
      "         +- core: method=OT annotation_prior=None\n",
      "mean,std( rescaling(gene) )  8.003621875388804 38.62337206883408\n",
      "bisection run on 1\n",
      "bisection run on 0.6666666666666667\n",
      "bisection run on 0.4444444444444444\n",
      "bisection run on 0.2962962962962963\n",
      "bisection run on 0.19753086419753085\n",
      "bisection run on 0.09876543209876543\n",
      "Finished annotation in 20.42 seconds.\n",
      "12hours\n"
     ]
    },
    {
     "name": "stderr",
     "output_type": "stream",
     "text": [
      "/tmp/ipykernel_148138/1854836715.py:11: FutureWarning: The behavior of Series.replace (and DataFrame.replace) with CategoricalDtype is deprecated. In a future version, replace will only be used for cases that preserve the categories. To change the categories, use ser.cat.rename_categories instead.\n",
      "  rna_ad.obs[\"celltype_new\"] = rna_ad.obs[\"celltype_new\"].replace('DTL-ATL','DTL')\n"
     ]
    },
    {
     "name": "stdout",
     "output_type": "stream",
     "text": [
      "Starting preprocessing\n",
      "Annotation profiles were not found in `reference.varm[\"celltype_new\"]`. Constructing reference profiles with `tacco.preprocessing.construct_reference_profiles` and default arguments...\n",
      "Finished preprocessing in 7.72 seconds.\n",
      "Starting annotation of data with shape (1711, 16848) and a reference of shape (20460, 16848) using the following wrapped method:\n",
      "+- platform normalization: platform_iterations=0, gene_keys=celltype_new, normalize_to=adata\n",
      "   +- multi center: multi_center=None multi_center_amplitudes=True\n",
      "      +- bisection boost: bisections=4, bisection_divisor=3\n",
      "         +- core: method=OT annotation_prior=None\n",
      "mean,std( rescaling(gene) )  6.078082374255739 30.614429234436717\n",
      "bisection run on 1\n",
      "bisection run on 0.6666666666666667\n",
      "bisection run on 0.4444444444444444\n",
      "bisection run on 0.2962962962962963\n",
      "bisection run on 0.19753086419753085\n",
      "bisection run on 0.09876543209876543\n",
      "Finished annotation in 22.0 seconds.\n",
      "2days\n"
     ]
    },
    {
     "name": "stderr",
     "output_type": "stream",
     "text": [
      "/tmp/ipykernel_148138/1854836715.py:11: FutureWarning: The behavior of Series.replace (and DataFrame.replace) with CategoricalDtype is deprecated. In a future version, replace will only be used for cases that preserve the categories. To change the categories, use ser.cat.rename_categories instead.\n",
      "  rna_ad.obs[\"celltype_new\"] = rna_ad.obs[\"celltype_new\"].replace('DTL-ATL','DTL')\n"
     ]
    },
    {
     "name": "stdout",
     "output_type": "stream",
     "text": [
      "Starting preprocessing\n",
      "Annotation profiles were not found in `reference.varm[\"celltype_new\"]`. Constructing reference profiles with `tacco.preprocessing.construct_reference_profiles` and default arguments...\n",
      "Finished preprocessing in 8.51 seconds.\n",
      "Starting annotation of data with shape (1627, 16971) and a reference of shape (20803, 16971) using the following wrapped method:\n",
      "+- platform normalization: platform_iterations=0, gene_keys=celltype_new, normalize_to=adata\n",
      "   +- multi center: multi_center=None multi_center_amplitudes=True\n",
      "      +- bisection boost: bisections=4, bisection_divisor=3\n",
      "         +- core: method=OT annotation_prior=None\n",
      "mean,std( rescaling(gene) )  5.374362519096317 25.175095205924066\n",
      "bisection run on 1\n",
      "bisection run on 0.6666666666666667\n",
      "bisection run on 0.4444444444444444\n",
      "bisection run on 0.2962962962962963\n",
      "bisection run on 0.19753086419753085\n",
      "bisection run on 0.09876543209876543\n",
      "Finished annotation in 21.48 seconds.\n",
      "14days\n"
     ]
    },
    {
     "name": "stderr",
     "output_type": "stream",
     "text": [
      "/tmp/ipykernel_148138/1854836715.py:11: FutureWarning: The behavior of Series.replace (and DataFrame.replace) with CategoricalDtype is deprecated. In a future version, replace will only be used for cases that preserve the categories. To change the categories, use ser.cat.rename_categories instead.\n",
      "  rna_ad.obs[\"celltype_new\"] = rna_ad.obs[\"celltype_new\"].replace('DTL-ATL','DTL')\n"
     ]
    },
    {
     "name": "stdout",
     "output_type": "stream",
     "text": [
      "Starting preprocessing\n",
      "Annotation profiles were not found in `reference.varm[\"celltype_new\"]`. Constructing reference profiles with `tacco.preprocessing.construct_reference_profiles` and default arguments...\n",
      "Finished preprocessing in 7.25 seconds.\n",
      "Starting annotation of data with shape (1275, 16813) and a reference of shape (20702, 16813) using the following wrapped method:\n",
      "+- platform normalization: platform_iterations=0, gene_keys=celltype_new, normalize_to=adata\n",
      "   +- multi center: multi_center=None multi_center_amplitudes=True\n",
      "      +- bisection boost: bisections=4, bisection_divisor=3\n",
      "         +- core: method=OT annotation_prior=None\n",
      "mean,std( rescaling(gene) )  14.303006265712858 45.36610952608338\n",
      "bisection run on 1\n",
      "bisection run on 0.6666666666666667\n",
      "bisection run on 0.4444444444444444\n",
      "bisection run on 0.2962962962962963\n",
      "bisection run on 0.19753086419753085\n",
      "bisection run on 0.09876543209876543\n",
      "Finished annotation in 26.35 seconds.\n",
      "6weeks\n"
     ]
    },
    {
     "name": "stderr",
     "output_type": "stream",
     "text": [
      "/tmp/ipykernel_148138/1854836715.py:11: FutureWarning: The behavior of Series.replace (and DataFrame.replace) with CategoricalDtype is deprecated. In a future version, replace will only be used for cases that preserve the categories. To change the categories, use ser.cat.rename_categories instead.\n",
      "  rna_ad.obs[\"celltype_new\"] = rna_ad.obs[\"celltype_new\"].replace('DTL-ATL','DTL')\n"
     ]
    },
    {
     "name": "stdout",
     "output_type": "stream",
     "text": [
      "Starting preprocessing\n",
      "Annotation profiles were not found in `reference.varm[\"celltype_new\"]`. Constructing reference profiles with `tacco.preprocessing.construct_reference_profiles` and default arguments...\n",
      "Finished preprocessing in 8.33 seconds.\n",
      "Starting annotation of data with shape (1799, 16926) and a reference of shape (23473, 16926) using the following wrapped method:\n",
      "+- platform normalization: platform_iterations=0, gene_keys=celltype_new, normalize_to=adata\n",
      "   +- multi center: multi_center=None multi_center_amplitudes=True\n",
      "      +- bisection boost: bisections=4, bisection_divisor=3\n",
      "         +- core: method=OT annotation_prior=None\n",
      "mean,std( rescaling(gene) )  5.864153627949384 31.09712978008396\n",
      "bisection run on 1\n",
      "bisection run on 0.6666666666666667\n",
      "bisection run on 0.4444444444444444\n",
      "bisection run on 0.2962962962962963\n",
      "bisection run on 0.19753086419753085\n",
      "bisection run on 0.09876543209876543\n",
      "Finished annotation in 29.33 seconds.\n"
     ]
    }
   ],
   "source": [
    "groups = [\"sham\", '4hours', '12hours', '2days', '14days', '6weeks']\n",
    "ident_list = ['ShamR', 'Hour4R', 'Hour12R', 'Day2R', 'Day14R', 'Week6R']\n",
    "\n",
    "for idx, ident in enumerate(groups):\n",
    "    print(ident)\n",
    "    rna_ad = sc.read_h5ad(f\"Visium_decov_sc_{ident}.h5ad\")\n",
    "    vis_ad = sc.read_h5ad(f\"Visium_decov_sp_{ident}.h5ad\")\n",
    "\n",
    "    vis_ad.X = vis_ad.raw.X.A\n",
    "    \n",
    "    rna_ad.obs[\"celltype_new\"] = rna_ad.obs[\"celltype_new\"].replace('DTL-ATL','DTL')\n",
    "    \n",
    "    tc.tl.annotate(vis_ad, rna_ad, annotation_key='celltype_new', result_key='tacco_annotation')\n",
    "    tacco_anno = vis_ad.obsm['tacco_annotation']\n",
    "    tacco_anno.to_csv(f\"tacco_deconv_{ident_list[idx]}.csv\")"
   ]
  },
  {
   "cell_type": "code",
   "execution_count": null,
   "id": "b23eca21-c896-4edd-ac98-1b7adc3d5131",
   "metadata": {},
   "outputs": [],
   "source": []
  }
 ],
 "metadata": {
  "kernelspec": {
   "display_name": "Python 3 (ipykernel)",
   "language": "python",
   "name": "python3"
  },
  "language_info": {
   "codemirror_mode": {
    "name": "ipython",
    "version": 3
   },
   "file_extension": ".py",
   "mimetype": "text/x-python",
   "name": "python",
   "nbconvert_exporter": "python",
   "pygments_lexer": "ipython3",
   "version": "3.9.0"
  }
 },
 "nbformat": 4,
 "nbformat_minor": 5
}
