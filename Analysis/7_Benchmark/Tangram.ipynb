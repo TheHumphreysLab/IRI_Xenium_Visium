{
 "cells": [
  {
   "cell_type": "code",
   "execution_count": 1,
   "id": "89881621-f1bd-42d9-9911-0900169efb98",
   "metadata": {},
   "outputs": [
    {
     "name": "stderr",
     "output_type": "stream",
     "text": [
      "/home/spatial/anaconda3/envs/scvi-env/lib/python3.9/site-packages/pandas/core/arrays/masked.py:60: UserWarning: Pandas requires version '1.3.6' or newer of 'bottleneck' (version '1.3.5' currently installed).\n",
      "  from pandas.core import (\n"
     ]
    },
    {
     "data": {
      "text/plain": [
       "'1.0.4'"
      ]
     },
     "execution_count": 1,
     "metadata": {},
     "output_type": "execute_result"
    }
   ],
   "source": [
    "import os, sys\n",
    "import numpy as np\n",
    "import pandas as pd\n",
    "import matplotlib.pyplot as plt\n",
    "import seaborn as sns\n",
    "import scanpy as sc\n",
    "import torch\n",
    "\n",
    "import tangram as tg\n",
    "\n",
    "%load_ext autoreload\n",
    "%autoreload 2\n",
    "%matplotlib inline\n",
    "\n",
    "tg.__version__"
   ]
  },
  {
   "cell_type": "code",
   "execution_count": 2,
   "id": "f1c973da-50d4-41bd-be77-2eae7011152d",
   "metadata": {},
   "outputs": [
    {
     "name": "stdout",
     "output_type": "stream",
     "text": [
      "4hours\n",
      "Drop celltype [] contain less 2 sample\n",
      "WARNING: Default of the method has been changed to 't-test' from 't-test_overestim_var'\n"
     ]
    },
    {
     "name": "stderr",
     "output_type": "stream",
     "text": [
      "INFO:root:2120 training genes are saved in `uns``training_genes` of both single cell and spatial Anndatas.\n",
      "INFO:root:16462 overlapped genes are saved in `uns``overlap_genes` of both single cell and spatial Anndatas.\n",
      "INFO:root:uniform based density prior is calculated and saved in `obs``uniform_density` of the spatial Anndata.\n",
      "INFO:root:rna count based density prior is calculated and saved in `obs``rna_count_based_density` of the spatial Anndata.\n",
      "INFO:root:Allocate tensors for mapping.\n",
      "INFO:root:Begin training with 2120 genes and rna_count_based density_prior in clusters mode...\n",
      "INFO:root:Printing scores every 100 epochs.\n"
     ]
    },
    {
     "name": "stdout",
     "output_type": "stream",
     "text": [
      "Score: 0.453, KL reg: 0.083\n",
      "Score: 0.574, KL reg: 0.001\n",
      "Score: 0.575, KL reg: 0.001\n",
      "Score: 0.575, KL reg: 0.001\n",
      "Score: 0.575, KL reg: 0.001\n",
      "Score: 0.575, KL reg: 0.001\n",
      "Score: 0.575, KL reg: 0.001\n",
      "Score: 0.575, KL reg: 0.001\n",
      "Score: 0.575, KL reg: 0.001\n",
      "Score: 0.575, KL reg: 0.001\n"
     ]
    },
    {
     "name": "stderr",
     "output_type": "stream",
     "text": [
      "INFO:root:Saving results..\n",
      "INFO:root:spatial prediction dataframe is saved in `obsm` `tangram_ct_pred` of the spatial AnnData.\n"
     ]
    },
    {
     "name": "stdout",
     "output_type": "stream",
     "text": [
      "12hours\n",
      "Drop celltype [] contain less 2 sample\n",
      "WARNING: Default of the method has been changed to 't-test' from 't-test_overestim_var'\n"
     ]
    },
    {
     "name": "stderr",
     "output_type": "stream",
     "text": [
      "INFO:root:2001 training genes are saved in `uns``training_genes` of both single cell and spatial Anndatas.\n",
      "INFO:root:16848 overlapped genes are saved in `uns``overlap_genes` of both single cell and spatial Anndatas.\n",
      "INFO:root:uniform based density prior is calculated and saved in `obs``uniform_density` of the spatial Anndata.\n",
      "INFO:root:rna count based density prior is calculated and saved in `obs``rna_count_based_density` of the spatial Anndata.\n",
      "INFO:root:Allocate tensors for mapping.\n",
      "INFO:root:Begin training with 2001 genes and rna_count_based density_prior in clusters mode...\n",
      "INFO:root:Printing scores every 100 epochs.\n"
     ]
    },
    {
     "name": "stdout",
     "output_type": "stream",
     "text": [
      "Score: 0.470, KL reg: 0.066\n",
      "Score: 0.570, KL reg: 0.001\n",
      "Score: 0.571, KL reg: 0.001\n",
      "Score: 0.571, KL reg: 0.001\n",
      "Score: 0.571, KL reg: 0.001\n",
      "Score: 0.571, KL reg: 0.001\n",
      "Score: 0.571, KL reg: 0.001\n",
      "Score: 0.571, KL reg: 0.001\n",
      "Score: 0.571, KL reg: 0.001\n",
      "Score: 0.571, KL reg: 0.001\n"
     ]
    },
    {
     "name": "stderr",
     "output_type": "stream",
     "text": [
      "INFO:root:Saving results..\n",
      "INFO:root:spatial prediction dataframe is saved in `obsm` `tangram_ct_pred` of the spatial AnnData.\n"
     ]
    },
    {
     "name": "stdout",
     "output_type": "stream",
     "text": [
      "2days\n",
      "Drop celltype [] contain less 2 sample\n",
      "WARNING: Default of the method has been changed to 't-test' from 't-test_overestim_var'\n"
     ]
    },
    {
     "name": "stderr",
     "output_type": "stream",
     "text": [
      "INFO:root:2040 training genes are saved in `uns``training_genes` of both single cell and spatial Anndatas.\n",
      "INFO:root:16971 overlapped genes are saved in `uns``overlap_genes` of both single cell and spatial Anndatas.\n",
      "INFO:root:uniform based density prior is calculated and saved in `obs``uniform_density` of the spatial Anndata.\n",
      "INFO:root:rna count based density prior is calculated and saved in `obs``rna_count_based_density` of the spatial Anndata.\n",
      "INFO:root:Allocate tensors for mapping.\n",
      "INFO:root:Begin training with 2040 genes and rna_count_based density_prior in clusters mode...\n",
      "INFO:root:Printing scores every 100 epochs.\n"
     ]
    },
    {
     "name": "stdout",
     "output_type": "stream",
     "text": [
      "Score: 0.452, KL reg: 0.076\n",
      "Score: 0.583, KL reg: 0.000\n",
      "Score: 0.584, KL reg: 0.000\n",
      "Score: 0.584, KL reg: 0.000\n",
      "Score: 0.584, KL reg: 0.000\n",
      "Score: 0.584, KL reg: 0.000\n",
      "Score: 0.584, KL reg: 0.000\n",
      "Score: 0.584, KL reg: 0.000\n",
      "Score: 0.584, KL reg: 0.000\n",
      "Score: 0.584, KL reg: 0.000\n"
     ]
    },
    {
     "name": "stderr",
     "output_type": "stream",
     "text": [
      "INFO:root:Saving results..\n",
      "INFO:root:spatial prediction dataframe is saved in `obsm` `tangram_ct_pred` of the spatial AnnData.\n"
     ]
    },
    {
     "name": "stdout",
     "output_type": "stream",
     "text": [
      "14days\n",
      "Drop celltype [] contain less 2 sample\n",
      "WARNING: Default of the method has been changed to 't-test' from 't-test_overestim_var'\n"
     ]
    },
    {
     "name": "stderr",
     "output_type": "stream",
     "text": [
      "INFO:root:2050 training genes are saved in `uns``training_genes` of both single cell and spatial Anndatas.\n",
      "INFO:root:16813 overlapped genes are saved in `uns``overlap_genes` of both single cell and spatial Anndatas.\n",
      "INFO:root:uniform based density prior is calculated and saved in `obs``uniform_density` of the spatial Anndata.\n",
      "INFO:root:rna count based density prior is calculated and saved in `obs``rna_count_based_density` of the spatial Anndata.\n",
      "INFO:root:Allocate tensors for mapping.\n",
      "INFO:root:Begin training with 2050 genes and rna_count_based density_prior in clusters mode...\n",
      "INFO:root:Printing scores every 100 epochs.\n"
     ]
    },
    {
     "name": "stdout",
     "output_type": "stream",
     "text": [
      "Score: 0.560, KL reg: 0.062\n",
      "Score: 0.684, KL reg: 0.000\n",
      "Score: 0.684, KL reg: 0.000\n",
      "Score: 0.685, KL reg: 0.000\n",
      "Score: 0.685, KL reg: 0.000\n",
      "Score: 0.685, KL reg: 0.000\n",
      "Score: 0.685, KL reg: 0.000\n",
      "Score: 0.685, KL reg: 0.000\n",
      "Score: 0.685, KL reg: 0.000\n",
      "Score: 0.685, KL reg: 0.000\n"
     ]
    },
    {
     "name": "stderr",
     "output_type": "stream",
     "text": [
      "INFO:root:Saving results..\n",
      "INFO:root:spatial prediction dataframe is saved in `obsm` `tangram_ct_pred` of the spatial AnnData.\n"
     ]
    },
    {
     "name": "stdout",
     "output_type": "stream",
     "text": [
      "6weeks\n",
      "Drop celltype [] contain less 2 sample\n",
      "WARNING: Default of the method has been changed to 't-test' from 't-test_overestim_var'\n"
     ]
    },
    {
     "name": "stderr",
     "output_type": "stream",
     "text": [
      "INFO:root:2084 training genes are saved in `uns``training_genes` of both single cell and spatial Anndatas.\n",
      "INFO:root:16926 overlapped genes are saved in `uns``overlap_genes` of both single cell and spatial Anndatas.\n",
      "INFO:root:uniform based density prior is calculated and saved in `obs``uniform_density` of the spatial Anndata.\n",
      "INFO:root:rna count based density prior is calculated and saved in `obs``rna_count_based_density` of the spatial Anndata.\n",
      "INFO:root:Allocate tensors for mapping.\n",
      "INFO:root:Begin training with 2084 genes and rna_count_based density_prior in clusters mode...\n",
      "INFO:root:Printing scores every 100 epochs.\n"
     ]
    },
    {
     "name": "stdout",
     "output_type": "stream",
     "text": [
      "Score: 0.428, KL reg: 0.065\n",
      "Score: 0.580, KL reg: 0.003\n",
      "Score: 0.581, KL reg: 0.003\n",
      "Score: 0.581, KL reg: 0.003\n",
      "Score: 0.581, KL reg: 0.003\n",
      "Score: 0.581, KL reg: 0.003\n",
      "Score: 0.581, KL reg: 0.003\n",
      "Score: 0.581, KL reg: 0.003\n",
      "Score: 0.581, KL reg: 0.003\n",
      "Score: 0.581, KL reg: 0.003\n"
     ]
    },
    {
     "name": "stderr",
     "output_type": "stream",
     "text": [
      "INFO:root:Saving results..\n",
      "INFO:root:spatial prediction dataframe is saved in `obsm` `tangram_ct_pred` of the spatial AnnData.\n"
     ]
    }
   ],
   "source": [
    "groups = ['4hours', '12hours', '2days', '14days', '6weeks']\n",
    "ident_list = ['Hour4R', 'Hour12R', 'Day2R', 'Day14R', 'Week6R']\n",
    "\n",
    "for idx, ident in enumerate(groups):\n",
    "    print(ident)\n",
    "    rna_ad = sc.read_h5ad(f\"Visium_decov_sc_{ident}.h5ad\")\n",
    "    vis_ad = sc.read_h5ad(f\"Visium_decov_sp_{ident}.h5ad\")\n",
    "    rna_ad.obs[\"celltype_new\"] = rna_ad.obs[\"celltype_new\"].replace('DTL-ATL','DTL')\n",
    "    \n",
    "    vis_ad.X = vis_ad.raw.X\n",
    "    rna_ad.X = rna_ad.X.A\n",
    "    \n",
    "    celltype_key = 'celltype_new'\n",
    "    sc.pp.normalize_total(rna_ad)\n",
    "    celltype_counts = rna_ad.obs[celltype_key].value_counts()\n",
    "    celltype_drop = celltype_counts.index[celltype_counts < 2]\n",
    "    print(f'Drop celltype {list(celltype_drop)} contain less 2 sample')\n",
    "    \n",
    "    rna_ad = rna_ad[~rna_ad.obs[celltype_key].isin(celltype_drop),].copy()\n",
    "    sc.tl.rank_genes_groups(rna_ad, groupby=celltype_key, use_raw=False)\n",
    "    markers_df = pd.DataFrame(rna_ad.uns[\"rank_genes_groups\"][\"names\"]).iloc[0:200, :]\n",
    "\n",
    "    sc.pp.normalize_total(vis_ad)\n",
    "    genes_sc = np.unique(markers_df.melt().value.values)\n",
    "\n",
    "    genes_st = vis_ad.var_names.values\n",
    "    genes = list(set(genes_sc).intersection(set(genes_st)))\n",
    "    \n",
    "    tg.pp_adatas(rna_ad, vis_ad, genes=genes)\n",
    "    \n",
    "    ad_map = tg.map_cells_to_space(\n",
    "                   rna_ad,\n",
    "                   vis_ad,\n",
    "                   mode='clusters',\n",
    "                   cluster_label=celltype_key)\n",
    "    \n",
    "    tg.project_cell_annotations(ad_map, vis_ad, annotation=celltype_key)\n",
    "    celltype_density = vis_ad.obsm['tangram_ct_pred']\n",
    "    celltype_density = (celltype_density.T/celltype_density.sum(axis=1)).T\n",
    "\n",
    "    celltype_density.to_csv(f\"Tangram_deconv_{ident_list[idx]}.csv\")\n"
   ]
  }
 ],
 "metadata": {
  "kernelspec": {
   "display_name": "Python 3 (ipykernel)",
   "language": "python",
   "name": "python3"
  },
  "language_info": {
   "codemirror_mode": {
    "name": "ipython",
    "version": 3
   },
   "file_extension": ".py",
   "mimetype": "text/x-python",
   "name": "python",
   "nbconvert_exporter": "python",
   "pygments_lexer": "ipython3",
   "version": "3.9.15"
  }
 },
 "nbformat": 4,
 "nbformat_minor": 5
}
