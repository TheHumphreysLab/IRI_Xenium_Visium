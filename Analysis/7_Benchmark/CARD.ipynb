{
 "cells": [
  {
   "cell_type": "code",
   "execution_count": 2,
   "id": "1ee88b52-23fe-454e-9d98-7bc83bd0f446",
   "metadata": {
    "scrolled": true,
    "vscode": {
     "languageId": "r"
    }
   },
   "outputs": [
    {
     "name": "stderr",
     "output_type": "stream",
     "text": [
      "Registered S3 methods overwritten by 'registry':\n",
      "  method               from \n",
      "  print.registry_field proxy\n",
      "  print.registry_entry proxy\n",
      "\n",
      "Warning message:\n",
      "“replacing previous import ‘RcppML::nmf’ by ‘NMF::nmf’ when loading ‘CARD’”\n",
      "Loading required package: SeuratObject\n",
      "\n",
      "Loading required package: sp\n",
      "\n",
      "\n",
      "Attaching package: ‘SeuratObject’\n",
      "\n",
      "\n",
      "The following object is masked from ‘package:BiocGenerics’:\n",
      "\n",
      "    intersect\n",
      "\n",
      "\n",
      "The following objects are masked from ‘package:base’:\n",
      "\n",
      "    intersect, t\n",
      "\n",
      "\n"
     ]
    }
   ],
   "source": [
    "library(CARD)\n",
    "library(Seurat)\n",
    "library(dplyr)"
   ]
  },
  {
   "cell_type": "code",
   "execution_count": 3,
   "id": "e7284f5b-b36a-4190-8c1e-10d4cf7884e2",
   "metadata": {
    "vscode": {
     "languageId": "r"
    }
   },
   "outputs": [],
   "source": [
    "load(\"visium.RData\")\n",
    "load(\"scall.RData\")\n",
    "sc_all <- UpdateSeuratObject(sc.all)"
   ]
  },
  {
   "cell_type": "code",
   "execution_count": 5,
   "id": "276ef4c9-92dd-4d4d-b4eb-20d0fa4b6e85",
   "metadata": {
    "vscode": {
     "languageId": "r"
    }
   },
   "outputs": [
    {
     "data": {
      "text/plain": [
       "\n",
       "Control  4hours 12hours   2days  14days  6weeks \n",
       "  26654   14486   20460   20803   20702   23473 "
      ]
     },
     "metadata": {},
     "output_type": "display_data"
    }
   ],
   "source": [
    "table(sc_all$time)"
   ]
  },
  {
   "cell_type": "code",
   "execution_count": 6,
   "id": "f80e5d69-eede-4d61-a531-302304eae257",
   "metadata": {
    "vscode": {
     "languageId": "r"
    }
   },
   "outputs": [],
   "source": [
    "visium_ident_list <- c(\"ShamR\",\"Hour4R\",\"Hour12R\",\"Day2R\",\"Day14R\",\"Week6R\")\n",
    "sc_ident_list <- c(\"Control\",\"4hours\",\"12hours\",\"2days\",\"14days\",\"6weeks\")"
   ]
  },
  {
   "cell_type": "code",
   "execution_count": 34,
   "id": "cc1bdc0b-c02c-4b49-8c9c-c3f7585bce50",
   "metadata": {
    "scrolled": true,
    "vscode": {
     "languageId": "r"
    }
   },
   "outputs": [
    {
     "name": "stdout",
     "output_type": "stream",
     "text": [
      "[1] \"ShamR\"\n",
      "## QC on scRNASeq dataset! ...\n",
      "## QC on spatially-resolved dataset! ...\n",
      "## create reference matrix from scRNASeq...\n"
     ]
    },
    {
     "name": "stderr",
     "output_type": "stream",
     "text": [
      "Loading required package: nnls\n",
      "\n",
      "Loading required package: ggplot2\n",
      "\n",
      "Loading required package: TOAST\n",
      "\n",
      "Loading required package: EpiDISH\n",
      "\n",
      "Loading required package: limma\n",
      "\n",
      "\n",
      "Attaching package: ‘limma’\n",
      "\n",
      "\n",
      "The following object is masked from ‘package:BiocGenerics’:\n",
      "\n",
      "    plotMA\n",
      "\n",
      "\n",
      "Loading required package: quadprog\n",
      "\n",
      "Registered S3 method overwritten by 'GGally':\n",
      "  method from   \n",
      "  +.gg   ggplot2\n",
      "\n",
      "MuSiC v1.0.0 support SingleCellExperiment! See Tutorial: https://xuranw.github.io/MuSiC/articles/MuSiC.html\n",
      "\n",
      "MuSiC2 for multi-condition bulk RNA-seq data is also available!\n",
      "\n",
      "Warning message in asMethod(object):\n",
      "“sparse->dense coercion: allocating vector of size 5.0 GiB”\n"
     ]
    },
    {
     "name": "stdout",
     "output_type": "stream",
     "text": [
      "## Select Informative Genes! ...\n",
      "## Deconvolution Starts! ...\n",
      "## Deconvolution Finish! ...\n"
     ]
    }
   ],
   "source": [
    "sc_ident = \"Control\"\n",
    "spatial_ident = \"ShamR\"\n",
    "# Subset single-cell data\n",
    "sc_vis <- subset(sc_all, subset = time == sc_ident)\n",
    "sc_count <- sc_vis@assays$RNA$counts\n",
    "sc_meta <- sc_vis@meta.data[c(\"rep\", \"name\")]\n",
    "sc_meta$cellID <- rownames(sc_meta)\n",
    "# Subset spatial data\n",
    "print(spatial_ident)\n",
    "\n",
    "sp_vis <- subset(visium, subset = ident == \"ShamR\")\n",
    "spatial_count <- sp_vis@assays$RNA$counts\n",
    "spatial_location <- sp_vis@meta.data[c(\"x_align\", \"y_align\")]\n",
    "colnames(spatial_location) <- c(\"x\", \"y\")\n",
    "\n",
    "# Modify cell type names\n",
    "sc_meta <- sc_meta %>%\n",
    "mutate(name = case_when(\n",
    "  name %in% c(\"MTAL\", \"CTAL1\", \"CTAL2\") ~ \"TAL\",\n",
    "  name %in% c(\"CNT\", \"DCT-CNT\") ~ \"CNT\",\n",
    "  name %in% c(\"EC1\", \"EC2\") ~ \"EC\",\n",
    "  name %in% c(\"PC1\", \"PC2\") ~ \"PC\",\n",
    "  name %in% c(\"NewPT1\") ~ \"Inj_PT\",\n",
    "  name %in% c(\"NewPT2\") ~ \"FR_PT\",\n",
    "  name %in% c(\"Mø\", \"Tcell\") ~ \"Immune\",\n",
    "  TRUE ~ name\n",
    "))\n",
    "\n",
    "# Create CARD object\n",
    "CARD_obj <- createCARDObject(\n",
    "sc_count = sc_count,\n",
    "sc_meta = sc_meta,\n",
    "spatial_count = spatial_count,\n",
    "spatial_location = spatial_location,\n",
    "ct.varname = \"name\",\n",
    "ct.select = unique(sc_meta$name),\n",
    "sample.varname = \"rep\",\n",
    "minCountGene = 100,\n",
    "minCountSpot = 5\n",
    ")\n",
    "\n",
    "# Perform CARD deconvolution\n",
    "CARD_obj <- CARD_deconvolution(CARD_object = CARD_obj)\n",
    "\n",
    "# Save the results\n",
    "output_filename <- paste0(\"CARD_deconv_\", spatial_ident, \"_\", sc_ident, \".csv\")\n",
    "write.csv(CARD_obj@Proportion_CARD, output_filename)"
   ]
  },
  {
   "cell_type": "code",
   "execution_count": 35,
   "id": "c5b9ca79-58a9-4e2b-9b24-989bb2d835ad",
   "metadata": {
    "scrolled": true,
    "vscode": {
     "languageId": "r"
    }
   },
   "outputs": [
    {
     "name": "stdout",
     "output_type": "stream",
     "text": [
      "[1] \"Hour4R\"\n",
      "## QC on scRNASeq dataset! ...\n",
      "## QC on spatially-resolved dataset! ...\n",
      "## create reference matrix from scRNASeq...\n"
     ]
    },
    {
     "name": "stderr",
     "output_type": "stream",
     "text": [
      "Warning message in asMethod(object):\n",
      "“sparse->dense coercion: allocating vector of size 2.5 GiB”\n"
     ]
    },
    {
     "name": "stdout",
     "output_type": "stream",
     "text": [
      "## Select Informative Genes! ...\n",
      "## Deconvolution Starts! ...\n",
      "## Deconvolution Finish! ...\n"
     ]
    }
   ],
   "source": [
    "sc_ident = \"4hours\"\n",
    "spatial_ident = \"Hour4R\"\n",
    "# Subset single-cell data\n",
    "sc_vis <- subset(sc_all, subset = time == sc_ident)\n",
    "sc_count <- sc_vis@assays$RNA$counts\n",
    "sc_meta <- sc_vis@meta.data[c(\"rep\", \"name\")]\n",
    "sc_meta$cellID <- rownames(sc_meta)\n",
    "# Subset spatial data\n",
    "print(spatial_ident)\n",
    "\n",
    "sp_vis <- subset(visium, subset = ident == \"Hour4R\")\n",
    "spatial_count <- sp_vis@assays$RNA$counts\n",
    "spatial_location <- sp_vis@meta.data[c(\"x_align\", \"y_align\")]\n",
    "colnames(spatial_location) <- c(\"x\", \"y\")\n",
    "\n",
    "\n",
    "# Modify cell type names\n",
    "sc_meta <- sc_meta %>%\n",
    "mutate(name = case_when(\n",
    "  name %in% c(\"MTAL\", \"CTAL1\", \"CTAL2\") ~ \"TAL\",\n",
    "  name %in% c(\"CNT\", \"DCT-CNT\") ~ \"CNT\",\n",
    "  name %in% c(\"EC1\", \"EC2\") ~ \"EC\",\n",
    "  name %in% c(\"PC1\", \"PC2\") ~ \"PC\",\n",
    "  name %in% c(\"NewPT1\") ~ \"Inj_PT\",\n",
    "  name %in% c(\"NewPT2\") ~ \"FR_PT\",\n",
    "  name %in% c(\"Mø\", \"Tcell\") ~ \"Immune\",\n",
    "  TRUE ~ name\n",
    "))\n",
    "\n",
    "# Create CARD object\n",
    "CARD_obj <- createCARDObject(\n",
    "sc_count = sc_count,\n",
    "sc_meta = sc_meta,\n",
    "spatial_count = spatial_count,\n",
    "spatial_location = spatial_location,\n",
    "ct.varname = \"name\",\n",
    "ct.select = unique(sc_meta$name),\n",
    "sample.varname = \"rep\",\n",
    "minCountGene = 100,\n",
    "minCountSpot = 5\n",
    ")\n",
    "\n",
    "# Perform CARD deconvolution\n",
    "CARD_obj <- CARD_deconvolution(CARD_object = CARD_obj)\n",
    "\n",
    "# Save the results\n",
    "output_filename <- paste0(\"CARD_deconv_\", spatial_ident, \"_\", sc_ident, \".csv\")\n",
    "write.csv(CARD_obj@Proportion_CARD, output_filename)"
   ]
  },
  {
   "cell_type": "code",
   "execution_count": 36,
   "id": "5efa1f00-87df-4046-80bb-41495aa3ed67",
   "metadata": {
    "vscode": {
     "languageId": "r"
    }
   },
   "outputs": [
    {
     "name": "stdout",
     "output_type": "stream",
     "text": [
      "[1] \"Hour12R\"\n",
      "## QC on scRNASeq dataset! ...\n",
      "## QC on spatially-resolved dataset! ...\n",
      "## create reference matrix from scRNASeq...\n"
     ]
    },
    {
     "name": "stderr",
     "output_type": "stream",
     "text": [
      "Warning message in asMethod(object):\n",
      "“sparse->dense coercion: allocating vector of size 3.7 GiB”\n"
     ]
    },
    {
     "name": "stdout",
     "output_type": "stream",
     "text": [
      "## Select Informative Genes! ...\n",
      "## Deconvolution Starts! ...\n",
      "## Deconvolution Finish! ...\n"
     ]
    }
   ],
   "source": [
    "sc_ident = \"12hours\"\n",
    "spatial_ident = \"Hour12R\"\n",
    "# Subset single-cell data\n",
    "sc_vis <- subset(sc_all, subset = time == sc_ident)\n",
    "sc_count <- sc_vis@assays$RNA$counts\n",
    "sc_meta <- sc_vis@meta.data[c(\"rep\", \"name\")]\n",
    "sc_meta$cellID <- rownames(sc_meta)\n",
    "# Subset spatial data\n",
    "print(spatial_ident)\n",
    "\n",
    "sp_vis <- subset(visium, subset = ident == \"Hour12R\")\n",
    "spatial_count <- sp_vis@assays$RNA$counts\n",
    "spatial_location <- sp_vis@meta.data[c(\"x_align\", \"y_align\")]\n",
    "colnames(spatial_location) <- c(\"x\", \"y\")\n",
    "\n",
    "\n",
    "# Modify cell type names\n",
    "sc_meta <- sc_meta %>%\n",
    "mutate(name = case_when(\n",
    "  name %in% c(\"MTAL\", \"CTAL1\", \"CTAL2\") ~ \"TAL\",\n",
    "  name %in% c(\"CNT\", \"DCT-CNT\") ~ \"CNT\",\n",
    "  name %in% c(\"EC1\", \"EC2\") ~ \"EC\",\n",
    "  name %in% c(\"PC1\", \"PC2\") ~ \"PC\",\n",
    "  name %in% c(\"NewPT1\") ~ \"Inj_PT\",\n",
    "  name %in% c(\"NewPT2\") ~ \"FR_PT\",\n",
    "  name %in% c(\"Mø\", \"Tcell\") ~ \"Immune\",\n",
    "  TRUE ~ name\n",
    "))\n",
    "\n",
    "# Create CARD object\n",
    "CARD_obj <- createCARDObject(\n",
    "sc_count = sc_count,\n",
    "sc_meta = sc_meta,\n",
    "spatial_count = spatial_count,\n",
    "spatial_location = spatial_location,\n",
    "ct.varname = \"name\",\n",
    "ct.select = unique(sc_meta$name),\n",
    "sample.varname = \"rep\",\n",
    "minCountGene = 100,\n",
    "minCountSpot = 5\n",
    ")\n",
    "\n",
    "# Perform CARD deconvolution\n",
    "CARD_obj <- CARD_deconvolution(CARD_object = CARD_obj)\n",
    "\n",
    "# Save the results\n",
    "output_filename <- paste0(\"CARD_deconv_\", spatial_ident, \"_\", sc_ident, \".csv\")\n",
    "write.csv(CARD_obj@Proportion_CARD, output_filename)"
   ]
  },
  {
   "cell_type": "code",
   "execution_count": 37,
   "id": "d15c9d6c-21d2-4930-8c64-aaad12148050",
   "metadata": {
    "vscode": {
     "languageId": "r"
    }
   },
   "outputs": [
    {
     "name": "stdout",
     "output_type": "stream",
     "text": [
      "[1] \"Day2R\"\n",
      "## QC on scRNASeq dataset! ...\n",
      "## QC on spatially-resolved dataset! ...\n",
      "## create reference matrix from scRNASeq...\n"
     ]
    },
    {
     "name": "stderr",
     "output_type": "stream",
     "text": [
      "Warning message in asMethod(object):\n",
      "“sparse->dense coercion: allocating vector of size 3.9 GiB”\n"
     ]
    },
    {
     "name": "stdout",
     "output_type": "stream",
     "text": [
      "## Select Informative Genes! ...\n",
      "## Deconvolution Starts! ...\n",
      "## Deconvolution Finish! ...\n"
     ]
    }
   ],
   "source": [
    "sc_ident = \"2days\"\n",
    "spatial_ident = \"Day2R\"\n",
    "# Subset single-cell data\n",
    "sc_vis <- subset(sc_all, subset = time == sc_ident)\n",
    "sc_count <- sc_vis@assays$RNA$counts\n",
    "sc_meta <- sc_vis@meta.data[c(\"rep\", \"name\")]\n",
    "sc_meta$cellID <- rownames(sc_meta)\n",
    "# Subset spatial data\n",
    "print(spatial_ident)\n",
    "\n",
    "sp_vis <- subset(visium, subset = ident == \"Day2R\")\n",
    "spatial_count <- sp_vis@assays$RNA$counts\n",
    "spatial_location <- sp_vis@meta.data[c(\"x_align\", \"y_align\")]\n",
    "colnames(spatial_location) <- c(\"x\", \"y\")\n",
    "\n",
    "\n",
    "# Modify cell type names\n",
    "sc_meta <- sc_meta %>%\n",
    "mutate(name = case_when(\n",
    "  name %in% c(\"MTAL\", \"CTAL1\", \"CTAL2\") ~ \"TAL\",\n",
    "  name %in% c(\"CNT\", \"DCT-CNT\") ~ \"CNT\",\n",
    "  name %in% c(\"EC1\", \"EC2\") ~ \"EC\",\n",
    "  name %in% c(\"PC1\", \"PC2\") ~ \"PC\",\n",
    "  name %in% c(\"NewPT1\") ~ \"Inj_PT\",\n",
    "  name %in% c(\"NewPT2\") ~ \"FR_PT\",\n",
    "  name %in% c(\"Mø\", \"Tcell\") ~ \"Immune\",\n",
    "  TRUE ~ name\n",
    "))\n",
    "\n",
    "# Create CARD object\n",
    "CARD_obj <- createCARDObject(\n",
    "sc_count = sc_count,\n",
    "sc_meta = sc_meta,\n",
    "spatial_count = spatial_count,\n",
    "spatial_location = spatial_location,\n",
    "ct.varname = \"name\",\n",
    "ct.select = unique(sc_meta$name),\n",
    "sample.varname = \"rep\",\n",
    "minCountGene = 100,\n",
    "minCountSpot = 5\n",
    ")\n",
    "\n",
    "# Perform CARD deconvolution\n",
    "CARD_obj <- CARD_deconvolution(CARD_object = CARD_obj)\n",
    "\n",
    "# Save the results\n",
    "output_filename <- paste0(\"CARD_deconv_\", spatial_ident, \"_\", sc_ident, \".csv\")\n",
    "write.csv(CARD_obj@Proportion_CARD, output_filename)"
   ]
  },
  {
   "cell_type": "code",
   "execution_count": 38,
   "id": "a19b50f0-d739-4f96-9cc3-fc548e98f77f",
   "metadata": {
    "vscode": {
     "languageId": "r"
    }
   },
   "outputs": [
    {
     "name": "stdout",
     "output_type": "stream",
     "text": [
      "[1] \"Day14R\"\n",
      "## QC on scRNASeq dataset! ...\n",
      "## QC on spatially-resolved dataset! ...\n",
      "## create reference matrix from scRNASeq...\n"
     ]
    },
    {
     "name": "stderr",
     "output_type": "stream",
     "text": [
      "Warning message in asMethod(object):\n",
      "“sparse->dense coercion: allocating vector of size 3.8 GiB”\n"
     ]
    },
    {
     "name": "stdout",
     "output_type": "stream",
     "text": [
      "## Select Informative Genes! ...\n",
      "## Deconvolution Starts! ...\n",
      "## Deconvolution Finish! ...\n"
     ]
    }
   ],
   "source": [
    "sc_ident = \"14days\"\n",
    "spatial_ident = \"Day14R\"\n",
    "# Subset single-cell data\n",
    "sc_vis <- subset(sc_all, subset = time == sc_ident)\n",
    "sc_count <- sc_vis@assays$RNA$counts\n",
    "sc_meta <- sc_vis@meta.data[c(\"rep\", \"name\")]\n",
    "sc_meta$cellID <- rownames(sc_meta)\n",
    "# Subset spatial data\n",
    "print(spatial_ident)\n",
    "\n",
    "sp_vis <- subset(visium, subset = ident == \"Day14R\")\n",
    "spatial_count <- sp_vis@assays$RNA$counts\n",
    "spatial_location <- sp_vis@meta.data[c(\"x_align\", \"y_align\")]\n",
    "colnames(spatial_location) <- c(\"x\", \"y\")\n",
    "\n",
    "\n",
    "# Modify cell type names\n",
    "sc_meta <- sc_meta %>%\n",
    "mutate(name = case_when(\n",
    "  name %in% c(\"MTAL\", \"CTAL1\", \"CTAL2\") ~ \"TAL\",\n",
    "  name %in% c(\"CNT\", \"DCT-CNT\") ~ \"CNT\",\n",
    "  name %in% c(\"EC1\", \"EC2\") ~ \"EC\",\n",
    "  name %in% c(\"PC1\", \"PC2\") ~ \"PC\",\n",
    "  name %in% c(\"NewPT1\") ~ \"Inj_PT\",\n",
    "  name %in% c(\"NewPT2\") ~ \"FR_PT\",\n",
    "  name %in% c(\"Mø\", \"Tcell\") ~ \"Immune\",\n",
    "  TRUE ~ name\n",
    "))\n",
    "\n",
    "# Create CARD object\n",
    "CARD_obj <- createCARDObject(\n",
    "sc_count = sc_count,\n",
    "sc_meta = sc_meta,\n",
    "spatial_count = spatial_count,\n",
    "spatial_location = spatial_location,\n",
    "ct.varname = \"name\",\n",
    "ct.select = unique(sc_meta$name),\n",
    "sample.varname = \"rep\",\n",
    "minCountGene = 100,\n",
    "minCountSpot = 5\n",
    ")\n",
    "\n",
    "# Perform CARD deconvolution\n",
    "CARD_obj <- CARD_deconvolution(CARD_object = CARD_obj)\n",
    "\n",
    "# Save the results\n",
    "output_filename <- paste0(\"CARD_deconv_\", spatial_ident, \"_\", sc_ident, \".csv\")\n",
    "write.csv(CARD_obj@Proportion_CARD, output_filename)"
   ]
  },
  {
   "cell_type": "code",
   "execution_count": 9,
   "id": "995109d5-5cc0-4ef7-af09-55f4d6b0048f",
   "metadata": {
    "scrolled": true,
    "vscode": {
     "languageId": "r"
    }
   },
   "outputs": [
    {
     "name": "stdout",
     "output_type": "stream",
     "text": [
      "[1] \"Week6R\"\n",
      "## QC on scRNASeq dataset! ...\n",
      "## QC on spatially-resolved dataset! ...\n",
      "## create reference matrix from scRNASeq...\n"
     ]
    },
    {
     "name": "stderr",
     "output_type": "stream",
     "text": [
      "Loading required package: nnls\n",
      "\n",
      "Loading required package: ggplot2\n",
      "\n",
      "Loading required package: TOAST\n",
      "\n",
      "Loading required package: EpiDISH\n",
      "\n",
      "Loading required package: limma\n",
      "\n",
      "\n",
      "Attaching package: ‘limma’\n",
      "\n",
      "\n",
      "The following object is masked from ‘package:BiocGenerics’:\n",
      "\n",
      "    plotMA\n",
      "\n",
      "\n",
      "Loading required package: quadprog\n",
      "\n",
      "Registered S3 method overwritten by 'GGally':\n",
      "  method from   \n",
      "  +.gg   ggplot2\n",
      "\n",
      "MuSiC v1.0.0 support SingleCellExperiment! See Tutorial: https://xuranw.github.io/MuSiC/articles/MuSiC.html\n",
      "\n",
      "MuSiC2 for multi-condition bulk RNA-seq data is also available!\n",
      "\n",
      "Warning message in asMethod(object):\n",
      "“sparse->dense coercion: allocating vector of size 4.4 GiB”\n"
     ]
    },
    {
     "name": "stdout",
     "output_type": "stream",
     "text": [
      "## Select Informative Genes! ...\n",
      "## Deconvolution Starts! ...\n",
      "## Deconvolution Finish! ...\n"
     ]
    }
   ],
   "source": [
    "sc_ident = \"6weeks\"\n",
    "spatial_ident = \"Week6R\"\n",
    "# Subset single-cell data\n",
    "sc_vis <- subset(sc_all, subset = time == sc_ident)\n",
    "sc_count <- sc_vis@assays$RNA$counts\n",
    "sc_meta <- sc_vis@meta.data[c(\"rep\", \"name\")]\n",
    "sc_meta$cellID <- rownames(sc_meta)\n",
    "# Subset spatial data\n",
    "print(spatial_ident)\n",
    "\n",
    "sp_vis <- subset(visium, subset = ident == \"Week6R\")\n",
    "spatial_count <- sp_vis@assays$RNA$counts\n",
    "spatial_location <- sp_vis@meta.data[c(\"x_align\", \"y_align\")]\n",
    "colnames(spatial_location) <- c(\"x\", \"y\")\n",
    "\n",
    "\n",
    "# Modify cell type names\n",
    "sc_meta <- sc_meta %>%\n",
    "mutate(name = case_when(\n",
    "  name %in% c(\"MTAL\", \"CTAL1\", \"CTAL2\") ~ \"TAL\",\n",
    "  name %in% c(\"CNT\", \"DCT-CNT\") ~ \"CNT\",\n",
    "  name %in% c(\"EC1\", \"EC2\") ~ \"EC\",\n",
    "  name %in% c(\"PC1\", \"PC2\") ~ \"PC\",\n",
    "  name %in% c(\"NewPT1\") ~ \"Inj_PT\",\n",
    "  name %in% c(\"NewPT2\") ~ \"FR_PT\",\n",
    "  name %in% c(\"Mø\", \"Tcell\") ~ \"Immune\",\n",
    "  TRUE ~ name\n",
    "))\n",
    "\n",
    "# Create CARD object\n",
    "CARD_obj <- createCARDObject(\n",
    "sc_count = sc_count,\n",
    "sc_meta = sc_meta,\n",
    "spatial_count = spatial_count,\n",
    "spatial_location = spatial_location,\n",
    "ct.varname = \"name\",\n",
    "ct.select = unique(sc_meta$name),\n",
    "sample.varname = \"rep\",\n",
    "minCountGene = 100,\n",
    "minCountSpot = 5\n",
    ")\n",
    "\n",
    "# Perform CARD deconvolution\n",
    "CARD_obj <- CARD_deconvolution(CARD_object = CARD_obj)\n",
    "\n",
    "# Save the results\n",
    "output_filename <- paste0(\"CARD_deconv_\", spatial_ident, \"_\", sc_ident, \".csv\")\n",
    "write.csv(CARD_obj@Proportion_CARD, output_filename)"
   ]
  }
 ],
 "metadata": {
  "kernelspec": {
   "display_name": "R",
   "language": "R",
   "name": "ir"
  },
  "language_info": {
   "codemirror_mode": "r",
   "file_extension": ".r",
   "mimetype": "text/x-r-source",
   "name": "R",
   "pygments_lexer": "r",
   "version": "4.3.1"
  }
 },
 "nbformat": 4,
 "nbformat_minor": 5
}
